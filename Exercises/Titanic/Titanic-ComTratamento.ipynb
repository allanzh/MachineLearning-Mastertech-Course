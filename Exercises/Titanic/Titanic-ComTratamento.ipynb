{
 "cells": [
  {
   "cell_type": "code",
   "execution_count": 1,
   "metadata": {},
   "outputs": [],
   "source": [
    "import warnings\n",
    "warnings.filterwarnings('ignore')"
   ]
  },
  {
   "cell_type": "code",
   "execution_count": 44,
   "metadata": {},
   "outputs": [],
   "source": [
    "# Célula de imports\n",
    "import pandas as pd\n",
    "import numpy as np\n",
    "\n",
    "# gerar graficos\n",
    "import matplotlib.pyplot as plt\n",
    "#gerar no proprio browser\n",
    "%matplotlib inline\n",
    "import seaborn as sns\n",
    "\n",
    "from scipy.stats import boxcox\n",
    "\n",
    "from sklearn.preprocessing import MinMaxScaler\n",
    "from sklearn.preprocessing import PolynomialFeatures\n",
    "from sklearn.feature_selection import chi2\n",
    "from sklearn.feature_selection import SelectKBest\n",
    "from sklearn.model_selection import learning_curve\n",
    "from sklearn.linear_model import Perceptron \n",
    "from sklearn.linear_model import LogisticRegression "
   ]
  },
  {
   "cell_type": "code",
   "execution_count": 3,
   "metadata": {},
   "outputs": [],
   "source": [
    "def curva_aprendizado(estimador, x, y):\n",
    "    plt.figure()\n",
    "    plt.title(\"Curva de Aprendizado\")\n",
    "    plt.xlabel('Pontos do treinamento')\n",
    "    plt.ylabel('Desempenho')\n",
    "    plt.grid()\n",
    "    \n",
    "    pontos, desempenho_in, desempenho_out = learning_curve(estimador, x, y, train_sizes=[0.1,0.2,0.3,0.4,0.5,0.6,0.7,0.8,0.9])\n",
    "    \n",
    "    media_in = np.mean(desempenho_in, axis=1)\n",
    "    desvio_in = np.std(desempenho_in, axis=1)\n",
    "    media_out = np.mean(desempenho_out, axis=1)\n",
    "    desvio_out = np.std(desempenho_out, axis=1)\n",
    "    \n",
    "    \n",
    "    plt.plot(pontos, media_in, 'o-', color='red', label='Treinamento')\n",
    "    plt.plot(pontos, media_out, 'o-', color='green', label='Teste')\n",
    "    \n",
    "    plt.fill_between(pontos, media_in - desvio_in, media_in + desvio_in, color='red', alpha=0.2)\n",
    "    plt.fill_between(pontos, media_out - desvio_out, media_out + desvio_out, color='green', alpha=0.2)\n",
    "    \n",
    "    \n",
    "    plt.legend()\n",
    "    \n",
    "    return plt"
   ]
  },
  {
   "cell_type": "code",
   "execution_count": 4,
   "metadata": {},
   "outputs": [
    {
     "data": {
      "text/html": [
       "<div>\n",
       "<style scoped>\n",
       "    .dataframe tbody tr th:only-of-type {\n",
       "        vertical-align: middle;\n",
       "    }\n",
       "\n",
       "    .dataframe tbody tr th {\n",
       "        vertical-align: top;\n",
       "    }\n",
       "\n",
       "    .dataframe thead th {\n",
       "        text-align: right;\n",
       "    }\n",
       "</style>\n",
       "<table border=\"1\" class=\"dataframe\">\n",
       "  <thead>\n",
       "    <tr style=\"text-align: right;\">\n",
       "      <th></th>\n",
       "      <th>PassengerId</th>\n",
       "      <th>Survived</th>\n",
       "      <th>Pclass</th>\n",
       "      <th>Name</th>\n",
       "      <th>Sex</th>\n",
       "      <th>Age</th>\n",
       "      <th>SibSp</th>\n",
       "      <th>Parch</th>\n",
       "      <th>Ticket</th>\n",
       "      <th>Fare</th>\n",
       "      <th>Cabin</th>\n",
       "      <th>Embarked</th>\n",
       "    </tr>\n",
       "  </thead>\n",
       "  <tbody>\n",
       "    <tr>\n",
       "      <th>479</th>\n",
       "      <td>480</td>\n",
       "      <td>1</td>\n",
       "      <td>3</td>\n",
       "      <td>Hirvonen, Miss. Hildur E</td>\n",
       "      <td>female</td>\n",
       "      <td>2.0</td>\n",
       "      <td>0</td>\n",
       "      <td>1</td>\n",
       "      <td>3101298</td>\n",
       "      <td>12.2875</td>\n",
       "      <td>NaN</td>\n",
       "      <td>S</td>\n",
       "    </tr>\n",
       "    <tr>\n",
       "      <th>737</th>\n",
       "      <td>738</td>\n",
       "      <td>1</td>\n",
       "      <td>1</td>\n",
       "      <td>Lesurer, Mr. Gustave J</td>\n",
       "      <td>male</td>\n",
       "      <td>35.0</td>\n",
       "      <td>0</td>\n",
       "      <td>0</td>\n",
       "      <td>PC 17755</td>\n",
       "      <td>512.3292</td>\n",
       "      <td>B101</td>\n",
       "      <td>C</td>\n",
       "    </tr>\n",
       "    <tr>\n",
       "      <th>533</th>\n",
       "      <td>534</td>\n",
       "      <td>1</td>\n",
       "      <td>3</td>\n",
       "      <td>Peter, Mrs. Catherine (Catherine Rizk)</td>\n",
       "      <td>female</td>\n",
       "      <td>NaN</td>\n",
       "      <td>0</td>\n",
       "      <td>2</td>\n",
       "      <td>2668</td>\n",
       "      <td>22.3583</td>\n",
       "      <td>NaN</td>\n",
       "      <td>C</td>\n",
       "    </tr>\n",
       "    <tr>\n",
       "      <th>693</th>\n",
       "      <td>694</td>\n",
       "      <td>0</td>\n",
       "      <td>3</td>\n",
       "      <td>Saad, Mr. Khalil</td>\n",
       "      <td>male</td>\n",
       "      <td>25.0</td>\n",
       "      <td>0</td>\n",
       "      <td>0</td>\n",
       "      <td>2672</td>\n",
       "      <td>7.2250</td>\n",
       "      <td>NaN</td>\n",
       "      <td>C</td>\n",
       "    </tr>\n",
       "    <tr>\n",
       "      <th>36</th>\n",
       "      <td>37</td>\n",
       "      <td>1</td>\n",
       "      <td>3</td>\n",
       "      <td>Mamee, Mr. Hanna</td>\n",
       "      <td>male</td>\n",
       "      <td>NaN</td>\n",
       "      <td>0</td>\n",
       "      <td>0</td>\n",
       "      <td>2677</td>\n",
       "      <td>7.2292</td>\n",
       "      <td>NaN</td>\n",
       "      <td>C</td>\n",
       "    </tr>\n",
       "  </tbody>\n",
       "</table>\n",
       "</div>"
      ],
      "text/plain": [
       "     PassengerId  Survived  Pclass                                    Name  \\\n",
       "479          480         1       3                Hirvonen, Miss. Hildur E   \n",
       "737          738         1       1                  Lesurer, Mr. Gustave J   \n",
       "533          534         1       3  Peter, Mrs. Catherine (Catherine Rizk)   \n",
       "693          694         0       3                        Saad, Mr. Khalil   \n",
       "36            37         1       3                        Mamee, Mr. Hanna   \n",
       "\n",
       "        Sex   Age  SibSp  Parch    Ticket      Fare Cabin Embarked  \n",
       "479  female   2.0      0      1   3101298   12.2875   NaN        S  \n",
       "737    male  35.0      0      0  PC 17755  512.3292  B101        C  \n",
       "533  female   NaN      0      2      2668   22.3583   NaN        C  \n",
       "693    male  25.0      0      0      2672    7.2250   NaN        C  \n",
       "36     male   NaN      0      0      2677    7.2292   NaN        C  "
      ]
     },
     "execution_count": 4,
     "metadata": {},
     "output_type": "execute_result"
    }
   ],
   "source": [
    "dados = pd.read_csv('titanic.csv')\n",
    "copia = dados.copy()\n",
    "dados.sample(5)"
   ]
  },
  {
   "cell_type": "code",
   "execution_count": 5,
   "metadata": {},
   "outputs": [
    {
     "data": {
      "text/html": [
       "<div>\n",
       "<style scoped>\n",
       "    .dataframe tbody tr th:only-of-type {\n",
       "        vertical-align: middle;\n",
       "    }\n",
       "\n",
       "    .dataframe tbody tr th {\n",
       "        vertical-align: top;\n",
       "    }\n",
       "\n",
       "    .dataframe thead th {\n",
       "        text-align: right;\n",
       "    }\n",
       "</style>\n",
       "<table border=\"1\" class=\"dataframe\">\n",
       "  <thead>\n",
       "    <tr style=\"text-align: right;\">\n",
       "      <th></th>\n",
       "      <th>Survived</th>\n",
       "      <th>Pclass</th>\n",
       "      <th>Sex</th>\n",
       "      <th>Age</th>\n",
       "      <th>SibSp</th>\n",
       "      <th>Parch</th>\n",
       "      <th>Fare</th>\n",
       "      <th>Cabin</th>\n",
       "      <th>Embarked</th>\n",
       "    </tr>\n",
       "  </thead>\n",
       "  <tbody>\n",
       "    <tr>\n",
       "      <th>292</th>\n",
       "      <td>0</td>\n",
       "      <td>2</td>\n",
       "      <td>male</td>\n",
       "      <td>36.0</td>\n",
       "      <td>0</td>\n",
       "      <td>0</td>\n",
       "      <td>12.8750</td>\n",
       "      <td>D</td>\n",
       "      <td>C</td>\n",
       "    </tr>\n",
       "    <tr>\n",
       "      <th>504</th>\n",
       "      <td>1</td>\n",
       "      <td>1</td>\n",
       "      <td>female</td>\n",
       "      <td>16.0</td>\n",
       "      <td>0</td>\n",
       "      <td>0</td>\n",
       "      <td>86.5000</td>\n",
       "      <td>B79</td>\n",
       "      <td>S</td>\n",
       "    </tr>\n",
       "    <tr>\n",
       "      <th>349</th>\n",
       "      <td>0</td>\n",
       "      <td>3</td>\n",
       "      <td>male</td>\n",
       "      <td>42.0</td>\n",
       "      <td>0</td>\n",
       "      <td>0</td>\n",
       "      <td>8.6625</td>\n",
       "      <td>NaN</td>\n",
       "      <td>S</td>\n",
       "    </tr>\n",
       "    <tr>\n",
       "      <th>767</th>\n",
       "      <td>0</td>\n",
       "      <td>3</td>\n",
       "      <td>female</td>\n",
       "      <td>30.5</td>\n",
       "      <td>0</td>\n",
       "      <td>0</td>\n",
       "      <td>7.7500</td>\n",
       "      <td>NaN</td>\n",
       "      <td>Q</td>\n",
       "    </tr>\n",
       "    <tr>\n",
       "      <th>679</th>\n",
       "      <td>1</td>\n",
       "      <td>1</td>\n",
       "      <td>male</td>\n",
       "      <td>36.0</td>\n",
       "      <td>0</td>\n",
       "      <td>1</td>\n",
       "      <td>512.3292</td>\n",
       "      <td>B51 B53 B55</td>\n",
       "      <td>C</td>\n",
       "    </tr>\n",
       "  </tbody>\n",
       "</table>\n",
       "</div>"
      ],
      "text/plain": [
       "     Survived  Pclass     Sex   Age  SibSp  Parch      Fare        Cabin  \\\n",
       "292         0       2    male  36.0      0      0   12.8750            D   \n",
       "504         1       1  female  16.0      0      0   86.5000          B79   \n",
       "349         0       3    male  42.0      0      0    8.6625          NaN   \n",
       "767         0       3  female  30.5      0      0    7.7500          NaN   \n",
       "679         1       1    male  36.0      0      1  512.3292  B51 B53 B55   \n",
       "\n",
       "    Embarked  \n",
       "292        C  \n",
       "504        S  \n",
       "349        S  \n",
       "767        Q  \n",
       "679        C  "
      ]
     },
     "execution_count": 5,
     "metadata": {},
     "output_type": "execute_result"
    }
   ],
   "source": [
    "dados.drop(['PassengerId','Name','Ticket'], axis=1, inplace=True)\n",
    "dados.sample(5)"
   ]
  },
  {
   "cell_type": "code",
   "execution_count": 6,
   "metadata": {},
   "outputs": [],
   "source": [
    "dados['Family'] = dados['SibSp'] + dados['Parch']\n",
    "dados.drop(['SibSp', 'Parch'], axis=1, inplace=True)"
   ]
  },
  {
   "cell_type": "code",
   "execution_count": 7,
   "metadata": {},
   "outputs": [
    {
     "data": {
      "text/html": [
       "<div>\n",
       "<style scoped>\n",
       "    .dataframe tbody tr th:only-of-type {\n",
       "        vertical-align: middle;\n",
       "    }\n",
       "\n",
       "    .dataframe tbody tr th {\n",
       "        vertical-align: top;\n",
       "    }\n",
       "\n",
       "    .dataframe thead th {\n",
       "        text-align: right;\n",
       "    }\n",
       "</style>\n",
       "<table border=\"1\" class=\"dataframe\">\n",
       "  <thead>\n",
       "    <tr style=\"text-align: right;\">\n",
       "      <th></th>\n",
       "      <th>Survived</th>\n",
       "      <th>Pclass</th>\n",
       "      <th>Sex</th>\n",
       "      <th>Age</th>\n",
       "      <th>Fare</th>\n",
       "      <th>Cabin</th>\n",
       "      <th>Embarked</th>\n",
       "      <th>Family</th>\n",
       "    </tr>\n",
       "  </thead>\n",
       "  <tbody>\n",
       "    <tr>\n",
       "      <th>838</th>\n",
       "      <td>1</td>\n",
       "      <td>3</td>\n",
       "      <td>male</td>\n",
       "      <td>32.0</td>\n",
       "      <td>56.4958</td>\n",
       "      <td>NaN</td>\n",
       "      <td>S</td>\n",
       "      <td>0</td>\n",
       "    </tr>\n",
       "    <tr>\n",
       "      <th>594</th>\n",
       "      <td>0</td>\n",
       "      <td>2</td>\n",
       "      <td>male</td>\n",
       "      <td>37.0</td>\n",
       "      <td>26.0000</td>\n",
       "      <td>NaN</td>\n",
       "      <td>S</td>\n",
       "      <td>1</td>\n",
       "    </tr>\n",
       "    <tr>\n",
       "      <th>296</th>\n",
       "      <td>0</td>\n",
       "      <td>3</td>\n",
       "      <td>male</td>\n",
       "      <td>23.5</td>\n",
       "      <td>7.2292</td>\n",
       "      <td>NaN</td>\n",
       "      <td>C</td>\n",
       "      <td>0</td>\n",
       "    </tr>\n",
       "    <tr>\n",
       "      <th>398</th>\n",
       "      <td>0</td>\n",
       "      <td>2</td>\n",
       "      <td>male</td>\n",
       "      <td>23.0</td>\n",
       "      <td>10.5000</td>\n",
       "      <td>NaN</td>\n",
       "      <td>S</td>\n",
       "      <td>0</td>\n",
       "    </tr>\n",
       "    <tr>\n",
       "      <th>321</th>\n",
       "      <td>0</td>\n",
       "      <td>3</td>\n",
       "      <td>male</td>\n",
       "      <td>27.0</td>\n",
       "      <td>7.8958</td>\n",
       "      <td>NaN</td>\n",
       "      <td>S</td>\n",
       "      <td>0</td>\n",
       "    </tr>\n",
       "  </tbody>\n",
       "</table>\n",
       "</div>"
      ],
      "text/plain": [
       "     Survived  Pclass   Sex   Age     Fare Cabin Embarked  Family\n",
       "838         1       3  male  32.0  56.4958   NaN        S       0\n",
       "594         0       2  male  37.0  26.0000   NaN        S       1\n",
       "296         0       3  male  23.5   7.2292   NaN        C       0\n",
       "398         0       2  male  23.0  10.5000   NaN        S       0\n",
       "321         0       3  male  27.0   7.8958   NaN        S       0"
      ]
     },
     "execution_count": 7,
     "metadata": {},
     "output_type": "execute_result"
    }
   ],
   "source": [
    "dados.sample(5)"
   ]
  },
  {
   "cell_type": "code",
   "execution_count": 8,
   "metadata": {},
   "outputs": [
    {
     "data": {
      "text/plain": [
       "Survived      0\n",
       "Pclass        0\n",
       "Sex           0\n",
       "Age         177\n",
       "Fare          0\n",
       "Cabin       687\n",
       "Embarked      2\n",
       "Family        0\n",
       "dtype: int64"
      ]
     },
     "execution_count": 8,
     "metadata": {},
     "output_type": "execute_result"
    }
   ],
   "source": [
    "dados.isnull().sum()"
   ]
  },
  {
   "cell_type": "code",
   "execution_count": 9,
   "metadata": {},
   "outputs": [],
   "source": [
    "dados.drop('Cabin', axis=1, inplace=True)"
   ]
  },
  {
   "cell_type": "code",
   "execution_count": 10,
   "metadata": {},
   "outputs": [],
   "source": [
    "dados['Embarked'].fillna(\"NNN\", inplace=True)"
   ]
  },
  {
   "cell_type": "code",
   "execution_count": 11,
   "metadata": {},
   "outputs": [],
   "source": [
    "dados = dados.loc[dados['Embarked'] != \"NNN\", :]"
   ]
  },
  {
   "cell_type": "code",
   "execution_count": 12,
   "metadata": {},
   "outputs": [
    {
     "data": {
      "text/html": [
       "<div>\n",
       "<style scoped>\n",
       "    .dataframe tbody tr th:only-of-type {\n",
       "        vertical-align: middle;\n",
       "    }\n",
       "\n",
       "    .dataframe tbody tr th {\n",
       "        vertical-align: top;\n",
       "    }\n",
       "\n",
       "    .dataframe thead th {\n",
       "        text-align: right;\n",
       "    }\n",
       "</style>\n",
       "<table border=\"1\" class=\"dataframe\">\n",
       "  <thead>\n",
       "    <tr style=\"text-align: right;\">\n",
       "      <th></th>\n",
       "      <th>Survived</th>\n",
       "      <th>Pclass</th>\n",
       "      <th>Sex</th>\n",
       "      <th>Age</th>\n",
       "      <th>Fare</th>\n",
       "      <th>Embarked</th>\n",
       "      <th>Family</th>\n",
       "      <th>Title</th>\n",
       "    </tr>\n",
       "  </thead>\n",
       "  <tbody>\n",
       "    <tr>\n",
       "      <th>95</th>\n",
       "      <td>0</td>\n",
       "      <td>3</td>\n",
       "      <td>male</td>\n",
       "      <td>NaN</td>\n",
       "      <td>8.0500</td>\n",
       "      <td>S</td>\n",
       "      <td>0</td>\n",
       "      <td>Mr</td>\n",
       "    </tr>\n",
       "    <tr>\n",
       "      <th>79</th>\n",
       "      <td>1</td>\n",
       "      <td>3</td>\n",
       "      <td>female</td>\n",
       "      <td>30.0</td>\n",
       "      <td>12.4750</td>\n",
       "      <td>S</td>\n",
       "      <td>0</td>\n",
       "      <td>Miss</td>\n",
       "    </tr>\n",
       "    <tr>\n",
       "      <th>847</th>\n",
       "      <td>0</td>\n",
       "      <td>3</td>\n",
       "      <td>male</td>\n",
       "      <td>35.0</td>\n",
       "      <td>7.8958</td>\n",
       "      <td>C</td>\n",
       "      <td>0</td>\n",
       "      <td>Mr</td>\n",
       "    </tr>\n",
       "    <tr>\n",
       "      <th>243</th>\n",
       "      <td>0</td>\n",
       "      <td>3</td>\n",
       "      <td>male</td>\n",
       "      <td>22.0</td>\n",
       "      <td>7.1250</td>\n",
       "      <td>S</td>\n",
       "      <td>0</td>\n",
       "      <td>Mr</td>\n",
       "    </tr>\n",
       "    <tr>\n",
       "      <th>223</th>\n",
       "      <td>0</td>\n",
       "      <td>3</td>\n",
       "      <td>male</td>\n",
       "      <td>NaN</td>\n",
       "      <td>7.8958</td>\n",
       "      <td>S</td>\n",
       "      <td>0</td>\n",
       "      <td>Mr</td>\n",
       "    </tr>\n",
       "  </tbody>\n",
       "</table>\n",
       "</div>"
      ],
      "text/plain": [
       "     Survived  Pclass     Sex   Age     Fare Embarked  Family Title\n",
       "95          0       3    male   NaN   8.0500        S       0    Mr\n",
       "79          1       3  female  30.0  12.4750        S       0  Miss\n",
       "847         0       3    male  35.0   7.8958        C       0    Mr\n",
       "243         0       3    male  22.0   7.1250        S       0    Mr\n",
       "223         0       3    male   NaN   7.8958        S       0    Mr"
      ]
     },
     "execution_count": 12,
     "metadata": {},
     "output_type": "execute_result"
    }
   ],
   "source": [
    "dados['Title'] = 0\n",
    "\n",
    "for i in dados:\n",
    "    dados['Title'] = copia['Name'].str.extract('([A-Za-z]+)\\.', expand=False)\n",
    "    \n",
    "dados.sample(5)"
   ]
  },
  {
   "cell_type": "code",
   "execution_count": 13,
   "metadata": {},
   "outputs": [
    {
     "data": {
      "text/plain": [
       "array(['Mr', 'Mrs', 'Miss', 'Master', 'Don', 'Rev', 'Dr', 'Mme', 'Ms',\n",
       "       'Major', 'Lady', 'Sir', 'Mlle', 'Col', 'Capt', 'Countess',\n",
       "       'Jonkheer'], dtype=object)"
      ]
     },
     "execution_count": 13,
     "metadata": {},
     "output_type": "execute_result"
    }
   ],
   "source": [
    "dados['Title'].unique()"
   ]
  },
  {
   "cell_type": "code",
   "execution_count": 14,
   "metadata": {},
   "outputs": [
    {
     "data": {
      "text/plain": [
       "<matplotlib.axes._subplots.AxesSubplot at 0x7f05a993c898>"
      ]
     },
     "execution_count": 14,
     "metadata": {},
     "output_type": "execute_result"
    },
    {
     "data": {
      "image/png": "[encoded data removed]",
      "text/plain": [
       "<Figure size 1080x360 with 1 Axes>"
      ]
     },
     "metadata": {
      "needs_background": "light"
     },
     "output_type": "display_data"
    }
   ],
   "source": [
    "plt.figure(figsize=(15,5))\n",
    "sns.barplot(x=dados['Title'], y=dados['Age'])"
   ]
  },
  {
   "cell_type": "code",
   "execution_count": 15,
   "metadata": {},
   "outputs": [
    {
     "data": {
      "text/plain": [
       "{'Capt': 70.0,\n",
       " 'Col': 58.0,\n",
       " 'Countess': 33.0,\n",
       " 'Don': 40.0,\n",
       " 'Dr': 42.0,\n",
       " 'Jonkheer': 38.0,\n",
       " 'Lady': 48.0,\n",
       " 'Major': 48.5,\n",
       " 'Master': 4.574166666666667,\n",
       " 'Miss': 21.662068965517243,\n",
       " 'Mlle': 24.0,\n",
       " 'Mme': 24.0,\n",
       " 'Mr': 32.368090452261306,\n",
       " 'Mrs': 35.654205607476634,\n",
       " 'Ms': 28.0,\n",
       " 'Rev': 43.166666666666664,\n",
       " 'Sir': 49.0}"
      ]
     },
     "execution_count": 15,
     "metadata": {},
     "output_type": "execute_result"
    }
   ],
   "source": [
    "medias_idade = dados.groupby('Title')['Age'].mean().to_dict()\n",
    "medias_idade"
   ]
  },
  {
   "cell_type": "code",
   "execution_count": 16,
   "metadata": {},
   "outputs": [],
   "source": [
    "sem_idade = dados.loc[np.isnan(dados['Age'])].index\n",
    "dados.loc[sem_idade, 'Age'] = dados['Title'].loc[sem_idade].map(medias_idade)"
   ]
  },
  {
   "cell_type": "code",
   "execution_count": 17,
   "metadata": {},
   "outputs": [
    {
     "data": {
      "text/plain": [
       "Survived    0\n",
       "Pclass      0\n",
       "Sex         0\n",
       "Age         0\n",
       "Fare        0\n",
       "Embarked    0\n",
       "Family      0\n",
       "Title       0\n",
       "dtype: int64"
      ]
     },
     "execution_count": 17,
     "metadata": {},
     "output_type": "execute_result"
    }
   ],
   "source": [
    "dados.isnull().sum()"
   ]
  },
  {
   "cell_type": "code",
   "execution_count": 18,
   "metadata": {},
   "outputs": [
    {
     "data": {
      "text/plain": [
       "<matplotlib.axes._subplots.AxesSubplot at 0x7f05a90070f0>"
      ]
     },
     "execution_count": 18,
     "metadata": {},
     "output_type": "execute_result"
    },
    {
     "data": {
      "image/png": "[encoded data removed]",
      "text/plain": [
       "<Figure size 432x288 with 1 Axes>"
      ]
     },
     "metadata": {
      "needs_background": "light"
     },
     "output_type": "display_data"
    }
   ],
   "source": [
    "sns.barplot(x=dados['Pclass'], y=dados['Survived'])"
   ]
  },
  {
   "cell_type": "code",
   "execution_count": 19,
   "metadata": {},
   "outputs": [],
   "source": [
    "titles_dict = {'Capt': 'Other',\n",
    "               'Major': 'Other',\n",
    "               'Jonkheer': 'Other',\n",
    "               'Don': 'Other',\n",
    "               'Sir': 'Other',\n",
    "               'Dr': 'Other',\n",
    "               'Rev': 'Other',\n",
    "               'Countess': 'Other',\n",
    "               'Dona': 'Other',\n",
    "               'Mme': 'Mrs',\n",
    "               'Mlle': 'Miss',\n",
    "               'Ms': 'Miss',\n",
    "               'Mr': 'Mr',\n",
    "               'Mrs': 'Mrs',\n",
    "               'Miss': 'Miss',\n",
    "               'Master': 'Master',\n",
    "               'Lady': 'Other'}\n",
    "\n",
    "dados['Title'] = dados['Title'].map(titles_dict)"
   ]
  },
  {
   "cell_type": "code",
   "execution_count": 20,
   "metadata": {},
   "outputs": [
    {
     "data": {
      "text/plain": [
       "<matplotlib.axes._subplots.AxesSubplot at 0x7f05a9934080>"
      ]
     },
     "execution_count": 20,
     "metadata": {},
     "output_type": "execute_result"
    },
    {
     "data": {
      "image/png": "[encoded data removed]",
      "text/plain": [
       "<Figure size 432x288 with 1 Axes>"
      ]
     },
     "metadata": {
      "needs_background": "light"
     },
     "output_type": "display_data"
    }
   ],
   "source": [
    "sns.barplot(x=dados['Title'], y=dados['Survived'])"
   ]
  },
  {
   "cell_type": "code",
   "execution_count": 21,
   "metadata": {},
   "outputs": [
    {
     "data": {
      "text/plain": [
       "<matplotlib.axes._subplots.AxesSubplot at 0x7f05a8f3f400>"
      ]
     },
     "execution_count": 21,
     "metadata": {},
     "output_type": "execute_result"
    },
    {
     "data": {
      "image/png": "[encoded data removed]",
      "text/plain": [
       "<Figure size 432x288 with 1 Axes>"
      ]
     },
     "metadata": {
      "needs_background": "light"
     },
     "output_type": "display_data"
    }
   ],
   "source": [
    "sns.barplot(x=dados['Sex'], y=dados['Survived'])"
   ]
  },
  {
   "cell_type": "code",
   "execution_count": 22,
   "metadata": {},
   "outputs": [
    {
     "data": {
      "text/plain": [
       "<matplotlib.axes._subplots.AxesSubplot at 0x7f05a8f37780>"
      ]
     },
     "execution_count": 22,
     "metadata": {},
     "output_type": "execute_result"
    },
    {
     "data": {
      "image/png": "[encoded data removed]",
      "text/plain": [
       "<Figure size 2160x720 with 1 Axes>"
      ]
     },
     "metadata": {
      "needs_background": "light"
     },
     "output_type": "display_data"
    }
   ],
   "source": [
    "plt.figure(figsize=(30, 10))\n",
    "sns.barplot(x=dados['Age'], y=dados['Survived'])"
   ]
  },
  {
   "cell_type": "code",
   "execution_count": 23,
   "metadata": {},
   "outputs": [],
   "source": [
    "dados['Age'] = pd.cut(dados['Age'], bins=[0, 14, 50, 200], labels=['C', 'A', 'V'])"
   ]
  },
  {
   "cell_type": "code",
   "execution_count": 24,
   "metadata": {},
   "outputs": [
    {
     "data": {
      "text/html": [
       "<div>\n",
       "<style scoped>\n",
       "    .dataframe tbody tr th:only-of-type {\n",
       "        vertical-align: middle;\n",
       "    }\n",
       "\n",
       "    .dataframe tbody tr th {\n",
       "        vertical-align: top;\n",
       "    }\n",
       "\n",
       "    .dataframe thead th {\n",
       "        text-align: right;\n",
       "    }\n",
       "</style>\n",
       "<table border=\"1\" class=\"dataframe\">\n",
       "  <thead>\n",
       "    <tr style=\"text-align: right;\">\n",
       "      <th></th>\n",
       "      <th>Survived</th>\n",
       "      <th>Pclass</th>\n",
       "      <th>Sex</th>\n",
       "      <th>Age</th>\n",
       "      <th>Fare</th>\n",
       "      <th>Embarked</th>\n",
       "      <th>Family</th>\n",
       "      <th>Title</th>\n",
       "    </tr>\n",
       "  </thead>\n",
       "  <tbody>\n",
       "    <tr>\n",
       "      <th>473</th>\n",
       "      <td>1</td>\n",
       "      <td>2</td>\n",
       "      <td>female</td>\n",
       "      <td>A</td>\n",
       "      <td>13.7917</td>\n",
       "      <td>C</td>\n",
       "      <td>0</td>\n",
       "      <td>Mrs</td>\n",
       "    </tr>\n",
       "    <tr>\n",
       "      <th>134</th>\n",
       "      <td>0</td>\n",
       "      <td>2</td>\n",
       "      <td>male</td>\n",
       "      <td>A</td>\n",
       "      <td>13.0000</td>\n",
       "      <td>S</td>\n",
       "      <td>0</td>\n",
       "      <td>Mr</td>\n",
       "    </tr>\n",
       "    <tr>\n",
       "      <th>845</th>\n",
       "      <td>0</td>\n",
       "      <td>3</td>\n",
       "      <td>male</td>\n",
       "      <td>A</td>\n",
       "      <td>7.5500</td>\n",
       "      <td>S</td>\n",
       "      <td>0</td>\n",
       "      <td>Mr</td>\n",
       "    </tr>\n",
       "    <tr>\n",
       "      <th>288</th>\n",
       "      <td>1</td>\n",
       "      <td>2</td>\n",
       "      <td>male</td>\n",
       "      <td>A</td>\n",
       "      <td>13.0000</td>\n",
       "      <td>S</td>\n",
       "      <td>0</td>\n",
       "      <td>Mr</td>\n",
       "    </tr>\n",
       "    <tr>\n",
       "      <th>653</th>\n",
       "      <td>1</td>\n",
       "      <td>3</td>\n",
       "      <td>female</td>\n",
       "      <td>A</td>\n",
       "      <td>7.8292</td>\n",
       "      <td>Q</td>\n",
       "      <td>0</td>\n",
       "      <td>Miss</td>\n",
       "    </tr>\n",
       "  </tbody>\n",
       "</table>\n",
       "</div>"
      ],
      "text/plain": [
       "     Survived  Pclass     Sex Age     Fare Embarked  Family Title\n",
       "473         1       2  female   A  13.7917        C       0   Mrs\n",
       "134         0       2    male   A  13.0000        S       0    Mr\n",
       "845         0       3    male   A   7.5500        S       0    Mr\n",
       "288         1       2    male   A  13.0000        S       0    Mr\n",
       "653         1       3  female   A   7.8292        Q       0  Miss"
      ]
     },
     "execution_count": 24,
     "metadata": {},
     "output_type": "execute_result"
    }
   ],
   "source": [
    "dados.sample(5)"
   ]
  },
  {
   "cell_type": "code",
   "execution_count": 25,
   "metadata": {},
   "outputs": [
    {
     "data": {
      "text/plain": [
       "<matplotlib.axes._subplots.AxesSubplot at 0x7f058ec41828>"
      ]
     },
     "execution_count": 25,
     "metadata": {},
     "output_type": "execute_result"
    },
    {
     "data": {
      "image/png": "[encoded data removed]",
      "text/plain": [
       "<Figure size 432x288 with 1 Axes>"
      ]
     },
     "metadata": {
      "needs_background": "light"
     },
     "output_type": "display_data"
    }
   ],
   "source": [
    "sns.boxplot(dados['Survived'], dados['Fare'])"
   ]
  },
  {
   "cell_type": "code",
   "execution_count": 26,
   "metadata": {},
   "outputs": [
    {
     "data": {
      "text/plain": [
       "<matplotlib.axes._subplots.AxesSubplot at 0x7f058ebe4438>"
      ]
     },
     "execution_count": 26,
     "metadata": {},
     "output_type": "execute_result"
    },
    {
     "data": {
      "image/png": "[encoded data removed]",
      "text/plain": [
       "<Figure size 432x288 with 1 Axes>"
      ]
     },
     "metadata": {
      "needs_background": "light"
     },
     "output_type": "display_data"
    }
   ],
   "source": [
    "sns.barplot(dados['Survived'], dados['Fare'], dados['Pclass'])"
   ]
  },
  {
   "cell_type": "code",
   "execution_count": 27,
   "metadata": {},
   "outputs": [],
   "source": [
    "dados['Pclass'] = pd.Categorical(dados['Pclass'])"
   ]
  },
  {
   "cell_type": "code",
   "execution_count": 28,
   "metadata": {},
   "outputs": [],
   "source": [
    "dados['Fare'] = boxcox(dados['Fare'] + 1)[0]"
   ]
  },
  {
   "cell_type": "code",
   "execution_count": 29,
   "metadata": {},
   "outputs": [],
   "source": [
    "x = dados.loc[:, dados.columns != 'Survived']\n",
    "y = dados['Survived']"
   ]
  },
  {
   "cell_type": "code",
   "execution_count": 31,
   "metadata": {},
   "outputs": [
    {
     "data": {
      "text/plain": [
       "(889, 18)"
      ]
     },
     "execution_count": 31,
     "metadata": {},
     "output_type": "execute_result"
    }
   ],
   "source": [
    "x = pd.get_dummies(x)\n",
    "x.shape"
   ]
  },
  {
   "cell_type": "code",
   "execution_count": 34,
   "metadata": {},
   "outputs": [],
   "source": [
    "x = MinMaxScaler().fit_transform(x)"
   ]
  },
  {
   "cell_type": "code",
   "execution_count": 37,
   "metadata": {},
   "outputs": [],
   "source": [
    "polinomios = PolynomialFeatures(degree=2)\n",
    "polinomios.fit(x)\n",
    "x=polinomios.transform(x)"
   ]
  },
  {
   "cell_type": "code",
   "execution_count": 38,
   "metadata": {},
   "outputs": [
    {
     "data": {
      "text/plain": [
       "(889, 190)"
      ]
     },
     "execution_count": 38,
     "metadata": {},
     "output_type": "execute_result"
    }
   ],
   "source": [
    "x.shape"
   ]
  },
  {
   "cell_type": "code",
   "execution_count": 46,
   "metadata": {},
   "outputs": [
    {
     "name": "stdout",
     "output_type": "stream",
     "text": [
      "Score 0.7862767154105736 para 1 features\n",
      "Score 0.7862767154105736 para 2 features\n",
      "Score 0.7862767154105736 para 3 features\n",
      "Score 0.7862767154105736 para 4 features\n",
      "Score 0.7862767154105736 para 5 features\n",
      "Score 0.7862767154105736 para 6 features\n",
      "Score 0.7862767154105736 para 7 features\n",
      "Score 0.7862767154105736 para 8 features\n",
      "Score 0.7862767154105736 para 9 features\n",
      "Score 0.7862767154105736 para 10 features\n",
      "Score 0.7862767154105736 para 11 features\n",
      "Score 0.7862767154105736 para 12 features\n",
      "Score 0.7896512935883014 para 13 features\n",
      "Score 0.7896512935883014 para 14 features\n",
      "Score 0.7896512935883014 para 15 features\n",
      "Score 0.7986501687289089 para 16 features\n",
      "Score 0.7997750281214848 para 17 features\n",
      "Score 0.7997750281214848 para 18 features\n",
      "Score 0.7997750281214848 para 19 features\n",
      "Score 0.8200224971878515 para 20 features\n",
      "Score 0.8200224971878515 para 21 features\n",
      "Score 0.8200224971878515 para 22 features\n",
      "Score 0.8200224971878515 para 23 features\n",
      "Score 0.8200224971878515 para 24 features\n",
      "Score 0.8200224971878515 para 25 features\n",
      "Score 0.8211473565804275 para 26 features\n",
      "Score 0.8211473565804275 para 27 features\n",
      "Score 0.8211473565804275 para 28 features\n",
      "Score 0.8200224971878515 para 29 features\n",
      "Score 0.8200224971878515 para 30 features\n",
      "Score 0.8211473565804275 para 31 features\n",
      "Score 0.8188976377952756 para 32 features\n",
      "Score 0.8177727784026997 para 33 features\n",
      "Score 0.813273340832396 para 34 features\n",
      "Score 0.813273340832396 para 35 features\n",
      "Score 0.813273340832396 para 36 features\n",
      "Score 0.8143982002249719 para 37 features\n",
      "Score 0.8143982002249719 para 38 features\n",
      "Score 0.8143982002249719 para 39 features\n",
      "Score 0.8143982002249719 para 40 features\n",
      "Score 0.8143982002249719 para 41 features\n",
      "Score 0.8143982002249719 para 42 features\n",
      "Score 0.8200224971878515 para 43 features\n",
      "Score 0.8200224971878515 para 44 features\n",
      "Score 0.8200224971878515 para 45 features\n",
      "Score 0.8200224971878515 para 46 features\n",
      "Score 0.8200224971878515 para 47 features\n",
      "Score 0.8211473565804275 para 48 features\n",
      "Score 0.8267716535433071 para 49 features\n",
      "Score 0.8256467941507312 para 50 features\n",
      "Score 0.8256467941507312 para 51 features\n",
      "Score 0.8267716535433071 para 52 features\n",
      "Score 0.8267716535433071 para 53 features\n",
      "Score 0.829021372328459 para 54 features\n",
      "Score 0.8278965129358831 para 55 features\n",
      "Score 0.8346456692913385 para 56 features\n",
      "Score 0.8346456692913385 para 57 features\n",
      "Score 0.8346456692913385 para 58 features\n",
      "Score 0.8346456692913385 para 59 features\n",
      "Score 0.8335208098987626 para 60 features\n",
      "Score 0.8368953880764904 para 61 features\n",
      "Score 0.8368953880764904 para 62 features\n",
      "Score 0.8368953880764904 para 63 features\n",
      "Score 0.8380202474690663 para 64 features\n",
      "Score 0.8368953880764904 para 65 features\n",
      "Score 0.8368953880764904 para 66 features\n",
      "Score 0.8301462317210349 para 67 features\n",
      "Score 0.8312710911136107 para 68 features\n",
      "Score 0.8357705286839145 para 69 features\n",
      "Score 0.8357705286839145 para 70 features\n",
      "Score 0.8368953880764904 para 71 features\n",
      "Score 0.8368953880764904 para 72 features\n",
      "Score 0.8357705286839145 para 73 features\n",
      "Score 0.8335208098987626 para 74 features\n",
      "Score 0.8335208098987626 para 75 features\n",
      "Score 0.8335208098987626 para 76 features\n",
      "Score 0.8346456692913385 para 77 features\n",
      "Score 0.8357705286839145 para 78 features\n",
      "Score 0.8357705286839145 para 79 features\n",
      "Score 0.8312710911136107 para 80 features\n",
      "Score 0.8335208098987626 para 81 features\n",
      "Score 0.8346456692913385 para 82 features\n",
      "Score 0.8335208098987626 para 83 features\n",
      "Score 0.8346456692913385 para 84 features\n",
      "Score 0.8346456692913385 para 85 features\n",
      "Score 0.8335208098987626 para 86 features\n",
      "Score 0.8357705286839145 para 87 features\n",
      "Score 0.8380202474690663 para 88 features\n",
      "Score 0.8380202474690663 para 89 features\n",
      "Score 0.8357705286839145 para 90 features\n",
      "Score 0.8391451068616423 para 91 features\n",
      "Score 0.8391451068616423 para 92 features\n",
      "Score 0.8391451068616423 para 93 features\n",
      "Score 0.8391451068616423 para 94 features\n",
      "Score 0.8391451068616423 para 95 features\n",
      "Score 0.8402699662542182 para 96 features\n",
      "Score 0.843644544431946 para 97 features\n",
      "Score 0.843644544431946 para 98 features\n",
      "Score 0.843644544431946 para 99 features\n",
      "Score 0.843644544431946 para 100 features\n",
      "Score 0.84251968503937 para 101 features\n",
      "Score 0.84251968503937 para 102 features\n",
      "Score 0.84251968503937 para 103 features\n",
      "Score 0.84251968503937 para 104 features\n",
      "Score 0.84251968503937 para 105 features\n",
      "Score 0.84251968503937 para 106 features\n",
      "Score 0.84251968503937 para 107 features\n",
      "Score 0.84251968503937 para 108 features\n",
      "Score 0.84251968503937 para 109 features\n",
      "Score 0.84251968503937 para 110 features\n",
      "Score 0.84251968503937 para 111 features\n",
      "Score 0.84251968503937 para 112 features\n",
      "Score 0.843644544431946 para 113 features\n",
      "Score 0.843644544431946 para 114 features\n",
      "Score 0.843644544431946 para 115 features\n",
      "Score 0.843644544431946 para 116 features\n",
      "Score 0.84251968503937 para 117 features\n",
      "Score 0.84251968503937 para 118 features\n",
      "Score 0.84251968503937 para 119 features\n",
      "Score 0.84251968503937 para 120 features\n",
      "Score 0.84251968503937 para 121 features\n",
      "Score 0.84251968503937 para 122 features\n",
      "Score 0.84251968503937 para 123 features\n",
      "Score 0.84251968503937 para 124 features\n",
      "Score 0.84251968503937 para 125 features\n",
      "Score 0.84251968503937 para 126 features\n",
      "Score 0.84251968503937 para 127 features\n",
      "Score 0.84251968503937 para 128 features\n",
      "Score 0.84251968503937 para 129 features\n",
      "Score 0.84251968503937 para 130 features\n",
      "Score 0.84251968503937 para 131 features\n",
      "Score 0.84251968503937 para 132 features\n",
      "Score 0.84251968503937 para 133 features\n",
      "Score 0.84251968503937 para 134 features\n",
      "Score 0.84251968503937 para 135 features\n",
      "Score 0.84251968503937 para 136 features\n",
      "Score 0.84251968503937 para 137 features\n",
      "Score 0.84251968503937 para 138 features\n",
      "Score 0.84251968503937 para 139 features\n",
      "Score 0.8402699662542182 para 140 features\n",
      "Score 0.8402699662542182 para 141 features\n",
      "Score 0.8402699662542182 para 142 features\n",
      "Score 0.8402699662542182 para 143 features\n",
      "Score 0.8402699662542182 para 144 features\n",
      "Score 0.8402699662542182 para 145 features\n",
      "Score 0.8391451068616423 para 146 features\n",
      "Score 0.8391451068616423 para 147 features\n",
      "Score 0.8391451068616423 para 148 features\n",
      "Score 0.8391451068616423 para 149 features\n",
      "Score 0.8402699662542182 para 150 features\n",
      "Score 0.8402699662542182 para 151 features\n",
      "Score 0.8402699662542182 para 152 features\n",
      "Score 0.8402699662542182 para 153 features\n",
      "Score 0.8402699662542182 para 154 features\n",
      "Score 0.8402699662542182 para 155 features\n",
      "Score 0.8402699662542182 para 156 features\n",
      "Score 0.8402699662542182 para 157 features\n",
      "Score 0.8402699662542182 para 158 features\n",
      "Score 0.8402699662542182 para 159 features\n",
      "Score 0.8402699662542182 para 160 features\n",
      "Score 0.8402699662542182 para 161 features\n",
      "Score 0.8402699662542182 para 162 features\n",
      "Score 0.8402699662542182 para 163 features\n",
      "Score 0.8402699662542182 para 164 features\n",
      "Score 0.8402699662542182 para 165 features\n",
      "Score 0.8402699662542182 para 166 features\n",
      "Score 0.8402699662542182 para 167 features\n",
      "Score 0.8402699662542182 para 168 features\n",
      "Score 0.8402699662542182 para 169 features\n",
      "Score 0.8402699662542182 para 170 features\n",
      "Score 0.8402699662542182 para 171 features\n",
      "Score 0.8402699662542182 para 172 features\n",
      "Score 0.8402699662542182 para 173 features\n",
      "Score 0.8402699662542182 para 174 features\n",
      "Score 0.8402699662542182 para 175 features\n",
      "Score 0.8402699662542182 para 176 features\n",
      "Score 0.8402699662542182 para 177 features\n",
      "Score 0.8402699662542182 para 178 features\n",
      "Score 0.8402699662542182 para 179 features\n",
      "Score 0.8402699662542182 para 180 features\n",
      "Score 0.8402699662542182 para 181 features\n",
      "Score 0.8402699662542182 para 182 features\n",
      "Score 0.8402699662542182 para 183 features\n",
      "Score 0.8402699662542182 para 184 features\n",
      "Score 0.8402699662542182 para 185 features\n",
      "Score 0.8402699662542182 para 186 features\n",
      "Score 0.8402699662542182 para 187 features\n",
      "Score 0.8402699662542182 para 188 features\n",
      "Score 0.8402699662542182 para 189 features\n",
      "Score 0.8402699662542182 para 190 features\n",
      "Melhor resultado 0.843644544431946 para 97 feature\n"
     ]
    }
   ],
   "source": [
    "teste_lr = LogisticRegression()\n",
    "maior_score = 0\n",
    "n_ideal = 0\n",
    "for i in range(1, 191):\n",
    "    melhores = SelectKBest(score_func=chi2, k=i)\n",
    "    melhores.fit(x, y)\n",
    "    \n",
    "    teste_x = melhores.transform(x)\n",
    "    teste_lr.fit(teste_x, y)\n",
    "    score = teste_lr.score(teste_x, y)\n",
    "    print(f'Score {score} para {i} features')\n",
    "    if score > maior_score:\n",
    "        maior_score = score\n",
    "        n_ideal = i\n",
    "        \n",
    "print(f'Melhor resultado {maior_score} para {n_ideal} feature')\n",
    "        "
   ]
  },
  {
   "cell_type": "code",
   "execution_count": 47,
   "metadata": {},
   "outputs": [],
   "source": [
    "melhores = SelectKBest(score_func=chi2, k=n_ideal)\n",
    "melhores.fit(x,y)\n",
    "x = melhores.transform(x)"
   ]
  },
  {
   "cell_type": "code",
   "execution_count": 48,
   "metadata": {},
   "outputs": [],
   "source": [
    "pla = Perceptron()\n",
    "rl = LogisticRegression()"
   ]
  },
  {
   "cell_type": "code",
   "execution_count": 49,
   "metadata": {},
   "outputs": [
    {
     "data": {
      "text/plain": [
       "LogisticRegression(C=1.0, class_weight=None, dual=False, fit_intercept=True,\n",
       "          intercept_scaling=1, max_iter=100, multi_class='warn',\n",
       "          n_jobs=None, penalty='l2', random_state=None, solver='warn',\n",
       "          tol=0.0001, verbose=0, warm_start=False)"
      ]
     },
     "execution_count": 49,
     "metadata": {},
     "output_type": "execute_result"
    }
   ],
   "source": [
    "pla.fit(x,y)\n",
    "rl.fit(x,y)"
   ]
  },
  {
   "cell_type": "code",
   "execution_count": 50,
   "metadata": {},
   "outputs": [
    {
     "name": "stdout",
     "output_type": "stream",
     "text": [
      "Score Perceptron 0.8065241844769404\n",
      "Score LogReg 0.843644544431946\n"
     ]
    }
   ],
   "source": [
    "print(f'Score Perceptron {pla.score(x,y)}')\n",
    "print(f'Score LogReg {rl.score(x,y)}')"
   ]
  },
  {
   "cell_type": "code",
   "execution_count": 51,
   "metadata": {},
   "outputs": [
    {
     "data": {
      "text/plain": [
       "<module 'matplotlib.pyplot' from '/home/usuario/Allan-manha/lib64/python3.6/site-packages/matplotlib/pyplot.py'>"
      ]
     },
     "execution_count": 51,
     "metadata": {},
     "output_type": "execute_result"
    },
    {
     "data": {
      "image/png": "[encoded data removed]",
      "text/plain": [
       "<Figure size 432x288 with 1 Axes>"
      ]
     },
     "metadata": {
      "needs_background": "light"
     },
     "output_type": "display_data"
    }
   ],
   "source": [
    "curva_aprendizado(pla,x,y)"
   ]
  },
  {
   "cell_type": "code",
   "execution_count": 52,
   "metadata": {},
   "outputs": [
    {
     "data": {
      "text/plain": [
       "<module 'matplotlib.pyplot' from '/home/usuario/Allan-manha/lib64/python3.6/site-packages/matplotlib/pyplot.py'>"
      ]
     },
     "execution_count": 52,
     "metadata": {},
     "output_type": "execute_result"
    },
    {
     "data": {
      "image/png": "[encoded data removed]",
      "text/plain": [
       "<Figure size 432x288 with 1 Axes>"
      ]
     },
     "metadata": {
      "needs_background": "light"
     },
     "output_type": "display_data"
    }
   ],
   "source": [
    "curva_aprendizado(rl,x,y)"
   ]
  },
  {
   "cell_type": "code",
   "execution_count": null,
   "metadata": {},
   "outputs": [],
   "source": []
  }
 ],
 "metadata": {
  "kernelspec": {
   "display_name": "Python 3",
   "language": "python",
   "name": "python3"
  },
  "language_info": {
   "codemirror_mode": {
    "name": "ipython",
    "version": 3
   },
   "file_extension": ".py",
   "mimetype": "text/x-python",
   "name": "python",
   "nbconvert_exporter": "python",
   "pygments_lexer": "ipython3",
   "version": "3.6.5"
  }
 },
 "nbformat": 4,
 "nbformat_minor": 2
}
